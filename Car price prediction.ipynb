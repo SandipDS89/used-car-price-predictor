{
 "cells": [
  {
   "cell_type": "code",
   "execution_count": 64,
   "id": "9d351cee-a227-4815-891a-57d4965f1742",
   "metadata": {},
   "outputs": [],
   "source": [
    "import pandas as pd\n",
    "import numpy as np\n",
    "from sklearn.model_selection import train_test_split\n",
    "from sklearn.linear_model import LinearRegression\n",
    "from sklearn.ensemble import RandomForestRegressor,GradientBoostingRegressor\n",
    "from sklearn.tree import DecisionTreeRegressor\n",
    "from sklearn.metrics import r2_score, mean_absolute_error, mean_squared_error\n",
    "from sklearn.preprocessing import OneHotEncoder\n",
    "from sklearn.compose import ColumnTransformer\n",
    "from sklearn.pipeline import Pipeline\n",
    "import joblib"
   ]
  },
  {
   "cell_type": "code",
   "execution_count": 40,
   "id": "33662a1e-c0d4-493c-8a08-2de1ff47c908",
   "metadata": {},
   "outputs": [],
   "source": [
    "df = pd.read_csv(\"car data.csv\")\n"
   ]
  },
  {
   "cell_type": "code",
   "execution_count": 41,
   "id": "b522e6c6-cc6f-4f53-a27b-ab977ff470e8",
   "metadata": {},
   "outputs": [
    {
     "data": {
      "text/html": [
       "<div>\n",
       "<style scoped>\n",
       "    .dataframe tbody tr th:only-of-type {\n",
       "        vertical-align: middle;\n",
       "    }\n",
       "\n",
       "    .dataframe tbody tr th {\n",
       "        vertical-align: top;\n",
       "    }\n",
       "\n",
       "    .dataframe thead th {\n",
       "        text-align: right;\n",
       "    }\n",
       "</style>\n",
       "<table border=\"1\" class=\"dataframe\">\n",
       "  <thead>\n",
       "    <tr style=\"text-align: right;\">\n",
       "      <th></th>\n",
       "      <th>name</th>\n",
       "      <th>year</th>\n",
       "      <th>selling_price</th>\n",
       "      <th>km_driven</th>\n",
       "      <th>fuel</th>\n",
       "      <th>seller_type</th>\n",
       "      <th>transmission</th>\n",
       "      <th>owner</th>\n",
       "    </tr>\n",
       "  </thead>\n",
       "  <tbody>\n",
       "    <tr>\n",
       "      <th>0</th>\n",
       "      <td>Maruti 800 AC</td>\n",
       "      <td>2007</td>\n",
       "      <td>60000</td>\n",
       "      <td>70000</td>\n",
       "      <td>Petrol</td>\n",
       "      <td>Individual</td>\n",
       "      <td>Manual</td>\n",
       "      <td>First Owner</td>\n",
       "    </tr>\n",
       "    <tr>\n",
       "      <th>1</th>\n",
       "      <td>Maruti Wagon R LXI Minor</td>\n",
       "      <td>2007</td>\n",
       "      <td>135000</td>\n",
       "      <td>50000</td>\n",
       "      <td>Petrol</td>\n",
       "      <td>Individual</td>\n",
       "      <td>Manual</td>\n",
       "      <td>First Owner</td>\n",
       "    </tr>\n",
       "    <tr>\n",
       "      <th>2</th>\n",
       "      <td>Hyundai Verna 1.6 SX</td>\n",
       "      <td>2012</td>\n",
       "      <td>600000</td>\n",
       "      <td>100000</td>\n",
       "      <td>Diesel</td>\n",
       "      <td>Individual</td>\n",
       "      <td>Manual</td>\n",
       "      <td>First Owner</td>\n",
       "    </tr>\n",
       "    <tr>\n",
       "      <th>3</th>\n",
       "      <td>Datsun RediGO T Option</td>\n",
       "      <td>2017</td>\n",
       "      <td>250000</td>\n",
       "      <td>46000</td>\n",
       "      <td>Petrol</td>\n",
       "      <td>Individual</td>\n",
       "      <td>Manual</td>\n",
       "      <td>First Owner</td>\n",
       "    </tr>\n",
       "    <tr>\n",
       "      <th>4</th>\n",
       "      <td>Honda Amaze VX i-DTEC</td>\n",
       "      <td>2014</td>\n",
       "      <td>450000</td>\n",
       "      <td>141000</td>\n",
       "      <td>Diesel</td>\n",
       "      <td>Individual</td>\n",
       "      <td>Manual</td>\n",
       "      <td>Second Owner</td>\n",
       "    </tr>\n",
       "  </tbody>\n",
       "</table>\n",
       "</div>"
      ],
      "text/plain": [
       "                       name  year  selling_price  km_driven    fuel  \\\n",
       "0             Maruti 800 AC  2007          60000      70000  Petrol   \n",
       "1  Maruti Wagon R LXI Minor  2007         135000      50000  Petrol   \n",
       "2      Hyundai Verna 1.6 SX  2012         600000     100000  Diesel   \n",
       "3    Datsun RediGO T Option  2017         250000      46000  Petrol   \n",
       "4     Honda Amaze VX i-DTEC  2014         450000     141000  Diesel   \n",
       "\n",
       "  seller_type transmission         owner  \n",
       "0  Individual       Manual   First Owner  \n",
       "1  Individual       Manual   First Owner  \n",
       "2  Individual       Manual   First Owner  \n",
       "3  Individual       Manual   First Owner  \n",
       "4  Individual       Manual  Second Owner  "
      ]
     },
     "execution_count": 41,
     "metadata": {},
     "output_type": "execute_result"
    }
   ],
   "source": [
    "df.head()"
   ]
  },
  {
   "cell_type": "code",
   "execution_count": 42,
   "id": "cc54ffcc-e154-4cea-bdf8-3779d2947c1f",
   "metadata": {},
   "outputs": [
    {
     "data": {
      "text/plain": [
       "name             0\n",
       "year             0\n",
       "selling_price    0\n",
       "km_driven        0\n",
       "fuel             0\n",
       "seller_type      0\n",
       "transmission     0\n",
       "owner            0\n",
       "dtype: int64"
      ]
     },
     "execution_count": 42,
     "metadata": {},
     "output_type": "execute_result"
    }
   ],
   "source": [
    "df.isnull().sum()"
   ]
  },
  {
   "cell_type": "code",
   "execution_count": 43,
   "id": "1b28e83b-8078-4683-b702-a96c141ace94",
   "metadata": {},
   "outputs": [],
   "source": [
    "df['car_age'] = 2025 - df['year']\n"
   ]
  },
  {
   "cell_type": "code",
   "execution_count": 44,
   "id": "f173ea76-7357-4035-a763-583a6c7261b6",
   "metadata": {},
   "outputs": [],
   "source": [
    "# Outlier removal\n",
    "df = df[(df['selling_price'] < df['selling_price'].quantile(0.99)) &\n",
    "        (df['selling_price'] > df['selling_price'].quantile(0.01))]\n",
    "df = df[df['km_driven'] < df['km_driven'].quantile(0.99)]"
   ]
  },
  {
   "cell_type": "code",
   "execution_count": 45,
   "id": "629abfa4-04fc-41f7-a27f-76a0998877ac",
   "metadata": {},
   "outputs": [],
   "source": [
    "df.drop(['name', 'year'], axis=1, inplace=True)"
   ]
  },
  {
   "cell_type": "code",
   "execution_count": 46,
   "id": "93c4d15b-95aa-44ba-afff-efe820c1516d",
   "metadata": {},
   "outputs": [],
   "source": [
    "# Log transformation\n",
    "df['selling_price_log'] = np.log1p(df['selling_price'])     # target\n",
    "df['km_driven'] = np.log1p(df['km_driven']) "
   ]
  },
  {
   "cell_type": "code",
   "execution_count": 47,
   "id": "53d2c9c9-3dde-47fa-a904-042c1896f66e",
   "metadata": {},
   "outputs": [],
   "source": [
    "X = df.drop(columns=['selling_price', 'selling_price_log'])\n",
    "y = df['selling_price_log']"
   ]
  },
  {
   "cell_type": "code",
   "execution_count": 48,
   "id": "4ebf1b9c-c252-43da-ad19-e0151336663b",
   "metadata": {},
   "outputs": [
    {
     "data": {
      "text/html": [
       "<div>\n",
       "<style scoped>\n",
       "    .dataframe tbody tr th:only-of-type {\n",
       "        vertical-align: middle;\n",
       "    }\n",
       "\n",
       "    .dataframe tbody tr th {\n",
       "        vertical-align: top;\n",
       "    }\n",
       "\n",
       "    .dataframe thead th {\n",
       "        text-align: right;\n",
       "    }\n",
       "</style>\n",
       "<table border=\"1\" class=\"dataframe\">\n",
       "  <thead>\n",
       "    <tr style=\"text-align: right;\">\n",
       "      <th></th>\n",
       "      <th>selling_price</th>\n",
       "      <th>km_driven</th>\n",
       "      <th>fuel</th>\n",
       "      <th>seller_type</th>\n",
       "      <th>transmission</th>\n",
       "      <th>owner</th>\n",
       "      <th>car_age</th>\n",
       "      <th>selling_price_log</th>\n",
       "    </tr>\n",
       "  </thead>\n",
       "  <tbody>\n",
       "    <tr>\n",
       "      <th>0</th>\n",
       "      <td>60000</td>\n",
       "      <td>11.156265</td>\n",
       "      <td>Petrol</td>\n",
       "      <td>Individual</td>\n",
       "      <td>Manual</td>\n",
       "      <td>First Owner</td>\n",
       "      <td>18</td>\n",
       "      <td>11.002117</td>\n",
       "    </tr>\n",
       "    <tr>\n",
       "      <th>1</th>\n",
       "      <td>135000</td>\n",
       "      <td>10.819798</td>\n",
       "      <td>Petrol</td>\n",
       "      <td>Individual</td>\n",
       "      <td>Manual</td>\n",
       "      <td>First Owner</td>\n",
       "      <td>18</td>\n",
       "      <td>11.813037</td>\n",
       "    </tr>\n",
       "    <tr>\n",
       "      <th>2</th>\n",
       "      <td>600000</td>\n",
       "      <td>11.512935</td>\n",
       "      <td>Diesel</td>\n",
       "      <td>Individual</td>\n",
       "      <td>Manual</td>\n",
       "      <td>First Owner</td>\n",
       "      <td>13</td>\n",
       "      <td>13.304687</td>\n",
       "    </tr>\n",
       "    <tr>\n",
       "      <th>3</th>\n",
       "      <td>250000</td>\n",
       "      <td>10.736418</td>\n",
       "      <td>Petrol</td>\n",
       "      <td>Individual</td>\n",
       "      <td>Manual</td>\n",
       "      <td>First Owner</td>\n",
       "      <td>8</td>\n",
       "      <td>12.429220</td>\n",
       "    </tr>\n",
       "    <tr>\n",
       "      <th>4</th>\n",
       "      <td>450000</td>\n",
       "      <td>11.856522</td>\n",
       "      <td>Diesel</td>\n",
       "      <td>Individual</td>\n",
       "      <td>Manual</td>\n",
       "      <td>Second Owner</td>\n",
       "      <td>11</td>\n",
       "      <td>13.017005</td>\n",
       "    </tr>\n",
       "  </tbody>\n",
       "</table>\n",
       "</div>"
      ],
      "text/plain": [
       "   selling_price  km_driven    fuel seller_type transmission         owner  \\\n",
       "0          60000  11.156265  Petrol  Individual       Manual   First Owner   \n",
       "1         135000  10.819798  Petrol  Individual       Manual   First Owner   \n",
       "2         600000  11.512935  Diesel  Individual       Manual   First Owner   \n",
       "3         250000  10.736418  Petrol  Individual       Manual   First Owner   \n",
       "4         450000  11.856522  Diesel  Individual       Manual  Second Owner   \n",
       "\n",
       "   car_age  selling_price_log  \n",
       "0       18          11.002117  \n",
       "1       18          11.813037  \n",
       "2       13          13.304687  \n",
       "3        8          12.429220  \n",
       "4       11          13.017005  "
      ]
     },
     "execution_count": 48,
     "metadata": {},
     "output_type": "execute_result"
    }
   ],
   "source": [
    "df.head()"
   ]
  },
  {
   "cell_type": "code",
   "execution_count": 49,
   "id": "63ba7fa6-9356-40f7-bdcd-4d574215be0a",
   "metadata": {},
   "outputs": [],
   "source": [
    "# Categorical and numerical columns\n",
    "categorical_cols = ['fuel', 'seller_type', 'transmission', 'owner']\n",
    "numerical_cols = ['km_driven', 'car_age']"
   ]
  },
  {
   "cell_type": "code",
   "execution_count": 50,
   "id": "21be9ac3-df36-4cd9-8351-64811809663a",
   "metadata": {},
   "outputs": [],
   "source": [
    "# Preprocessing\n",
    "preprocessor = ColumnTransformer([\n",
    "    ('cat', OneHotEncoder(drop='first'), categorical_cols)\n",
    "], remainder='passthrough')"
   ]
  },
  {
   "cell_type": "code",
   "execution_count": 51,
   "id": "4bfc3032-4c15-408c-ada1-e947b67c21aa",
   "metadata": {},
   "outputs": [],
   "source": [
    "models = {\n",
    "    'Random Forest': RandomForestRegressor(n_estimators=100, random_state=42),\n",
    "    'Gradient Boosting': GradientBoostingRegressor(n_estimators=100, random_state=42),\n",
    "    'Decision Tree': DecisionTreeRegressor(random_state=42),\n",
    "    'Linear Regression': LinearRegression()\n",
    "}"
   ]
  },
  {
   "cell_type": "code",
   "execution_count": 52,
   "id": "9549169d-d421-49e1-8287-fbc6d311dd8b",
   "metadata": {},
   "outputs": [],
   "source": [
    "# Split & Train\n",
    "X_train, X_test, y_train, y_test = train_test_split(X, y, test_size=0.2, random_state=42)\n"
   ]
  },
  {
   "cell_type": "code",
   "execution_count": 53,
   "id": "48e8f79c-2621-45b4-9a6b-b96ba8f9d49a",
   "metadata": {},
   "outputs": [],
   "source": [
    "# Results storage\n",
    "results = []"
   ]
  },
  {
   "cell_type": "code",
   "execution_count": 54,
   "id": "ee38139b-a124-4bdd-8b9d-fbc3afaaa4b0",
   "metadata": {},
   "outputs": [],
   "source": [
    "best_model = None\n",
    "best_r2 = float('-inf')\n",
    "\n",
    "for name, reg in models.items():\n",
    "    \n",
    "    pipe = Pipeline([\n",
    "        ('preprocessor', preprocessor),\n",
    "        ('regressor', reg)\n",
    "    ])\n",
    "    \n",
    "    pipe.fit(X_train, y_train)\n",
    "    y_pred_log = pipe.predict(X_test)\n",
    "    y_pred = np.expm1(y_pred_log)    # Convert back to original price\n",
    "    y_test_actual = np.expm1(y_test) # Convert actual test values back\n",
    "\n",
    "    r2 = r2_score(y_test_actual, y_pred)\n",
    "    mae = mean_absolute_error(y_test_actual, y_pred)\n",
    "    mse = mean_squared_error(y_test_actual, y_pred)\n",
    "    rmse = np.sqrt(mse)\n",
    "    \n",
    "    results.append({\n",
    "        'Model': name,\n",
    "        'R²': round(r2, 4),\n",
    "        'MAE': round(mae, 2),\n",
    "        'MSE': round(mse, 2),\n",
    "        'RMSE': round(rmse, 2)\n",
    "    })"
   ]
  },
  {
   "cell_type": "code",
   "execution_count": 56,
   "id": "b68e015e-3a8e-44a6-b844-835ae2c0f744",
   "metadata": {},
   "outputs": [
    {
     "name": "stdout",
     "output_type": "stream",
     "text": [
      "\n",
      "🔍 Model Comparison :\n",
      "\n",
      "               Model      R²        MAE           MSE       RMSE\n",
      "0      Random Forest  0.6256  149342.66  6.983361e+10  264260.50\n",
      "1  Gradient Boosting  0.5977  161783.79  7.503014e+10  273916.31\n",
      "2      Decision Tree  0.4831  158273.40  9.640887e+10  310497.78\n",
      "3  Linear Regression  0.5305  175002.48  8.756440e+10  295912.83\n"
     ]
    }
   ],
   "source": [
    "    # Save best model\n",
    "    if r2 > best_r2:\n",
    "        best_r2 = r2\n",
    "        best_model = pipe\n",
    "        best_model_name = name\n",
    "\n",
    "# Create results DataFrame\n",
    "results_df = pd.DataFrame(results)\n",
    "print(\"\\n🔍 Model Comparison :\\n\")\n",
    "print(results_df)\n"
   ]
  },
  {
   "cell_type": "code",
   "execution_count": 66,
   "id": "6cf704d0-3a32-4875-94e2-4d1abeaccbde",
   "metadata": {},
   "outputs": [
    {
     "name": "stdout",
     "output_type": "stream",
     "text": [
      "\n",
      "✅ Best model 'Linear Regression' saved as: linear_regression_best_model.pkl\n"
     ]
    }
   ],
   "source": [
    "# Save best model to file\n",
    "import joblib\n",
    "model_filename = f\"{best_model_name.lower().replace(' ', '_')}_best_model.pkl\"\n",
    "joblib.dump(best_model, model_filename)\n",
    "print(f\"\\n✅ Best model '{best_model_name}' saved as: {model_filename}\")\n"
   ]
  },
  {
   "cell_type": "code",
   "execution_count": null,
   "id": "3233009a-9d59-4888-92d9-8ab1be0156c8",
   "metadata": {},
   "outputs": [],
   "source": []
  }
 ],
 "metadata": {
  "kernelspec": {
   "display_name": "Python 3 (ipykernel)",
   "language": "python",
   "name": "python3"
  },
  "language_info": {
   "codemirror_mode": {
    "name": "ipython",
    "version": 3
   },
   "file_extension": ".py",
   "mimetype": "text/x-python",
   "name": "python",
   "nbconvert_exporter": "python",
   "pygments_lexer": "ipython3",
   "version": "3.12.6"
  }
 },
 "nbformat": 4,
 "nbformat_minor": 5
}
